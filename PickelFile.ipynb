{
 "cells": [
  {
   "cell_type": "code",
   "execution_count": 7,
   "id": "1d7fed20",
   "metadata": {},
   "outputs": [],
   "source": [
    "import pickle\n",
    "from sklearn import datasets\n",
    "iris=datasets.load_iris()\n",
    "x=iris.data\n",
    "y=iris.target"
   ]
  },
  {
   "cell_type": "code",
   "execution_count": 8,
   "id": "9270e6a9",
   "metadata": {},
   "outputs": [],
   "source": [
    "#labels for iris dataset\n",
    "labels ={\n",
    " 0: \"setosa\",\n",
    " 1: \"versicolor\",\n",
    " 2: \"virginica\"\n",
    "}"
   ]
  },
  {
   "cell_type": "code",
   "execution_count": 9,
   "id": "71132d33",
   "metadata": {},
   "outputs": [],
   "source": [
    "#split the data set\n",
    "from sklearn.model_selection import train_test_split\n",
    "x_train,x_test,y_train,y_test=train_test_split(x,y,test_size=.50)"
   ]
  },
  {
   "cell_type": "code",
   "execution_count": 10,
   "id": "186751be",
   "metadata": {},
   "outputs": [],
   "source": [
    "#Using decision tree algorithm\n",
    "from sklearn import tree\n",
    "classifier=tree.DecisionTreeClassifier()\n",
    "classifier.fit(x_train,y_train)\n",
    "predictions=classifier.predict(x_test)"
   ]
  },
  {
   "cell_type": "code",
   "execution_count": 11,
   "id": "f0781676",
   "metadata": {},
   "outputs": [],
   "source": [
    "#export the model\n",
    "pickle.dump(classifier, open('model.pkl','wb'))"
   ]
  },
  {
   "cell_type": "code",
   "execution_count": 6,
   "id": "fda8fe86",
   "metadata": {},
   "outputs": [
    {
     "name": "stdout",
     "output_type": "stream",
     "text": [
      "Hello Worlds\n",
      "virginica\n"
     ]
    }
   ],
   "source": [
    "#load the model and test with a custom input\n",
    "model = pickle.load( open('model.pkl','rb'))\n",
    "x = [[6.7, 3.3, 5.7, 2.1]]\n",
    "predict = model.predict(x)\n",
    "print(\"Hello Worlds\")\n",
    "print(labels[predict[0]])"
   ]
  }
 ],
 "metadata": {
  "kernelspec": {
   "display_name": "Python 3 (ipykernel)",
   "language": "python",
   "name": "python3"
  },
  "language_info": {
   "codemirror_mode": {
    "name": "ipython",
    "version": 3
   },
   "file_extension": ".py",
   "mimetype": "text/x-python",
   "name": "python",
   "nbconvert_exporter": "python",
   "pygments_lexer": "ipython3",
   "version": "3.9.7"
  }
 },
 "nbformat": 4,
 "nbformat_minor": 5
}
